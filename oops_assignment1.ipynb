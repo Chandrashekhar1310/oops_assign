{
 "cells": [
  {
   "cell_type": "markdown",
   "id": "6c86a783-c5a7-40e6-97f3-08ccaa831bed",
   "metadata": {},
   "source": [
    "Q1. What is Abstraction in OOps? Explain with an example."
   ]
  },
  {
   "cell_type": "markdown",
   "id": "a363ca14-33af-4eb7-8461-12cacbb84fff",
   "metadata": {},
   "source": [
    "Abstraction is one of the fundamental concepts of Object-Oriented Programming (OOPs), which focuses on hiding complex implementation details of a system from the user and providing them with a simple interface to interact with it. In other words, Abstraction allows us to focus on the essential features of an object or system, ignoring the irrelevant details.\n",
    "\n",
    "For example, consider a car. As a user, we do not need to know how the engine works, what kind of fuel it needs, or how the internal components are connected. Instead, we are only interested in the basic functionalities, such as starting the car, accelerating, braking, and turning. Therefore, we can consider a car as an abstraction of its internal mechanisms."
   ]
  },
  {
   "cell_type": "markdown",
   "id": "7b400794-077a-4e88-a594-486ebb948536",
   "metadata": {},
   "source": [
    "Q2. Differentiate between Abstraction and Encapsulation. Explain with an example."
   ]
  },
  {
   "cell_type": "markdown",
   "id": "106a7c7b-313f-482f-9757-eb82d46fe555",
   "metadata": {},
   "source": [
    "Abstraction and Encapsulation are two essential concepts of Object-Oriented Programming (OOPs), which are often confused with each other. Although both concepts are related to data hiding, they have different meanings and serve different purposes.\n",
    "\n",
    "Abstraction focuses on hiding the implementation details of a system and exposing only the necessary information to the user. It allows us to create simplified models of complex systems that are easy to understand and use. On the other hand, Encapsulation focuses on protecting the data and methods of a class from unauthorized access and modification. It allows us to create more secure and robust code by preventing accidental or intentional data corruption."
   ]
  },
  {
   "cell_type": "markdown",
   "id": "bd6e417b-0704-4a9b-89e6-bd9eb63c681c",
   "metadata": {},
   "source": [
    "To apply Abstraction in this example, we can create an abstract class called Account that defines a basic interface for all types of accounts. We can then create specific classes, such as SavingsAccount and CheckingAccount, that inherit from the Account class and provide their own implementations of the methods."
   ]
  },
  {
   "cell_type": "code",
   "execution_count": 4,
   "id": "e7157e81-fd89-4cce-87d8-8f63c63ba52e",
   "metadata": {},
   "outputs": [],
   "source": [
    "#To understand the difference between Abstraction and Encapsulation, let's consider an example of a BankAccount class:\n",
    "import abc\n",
    "class pwskills:\n",
    "    @abc.abstractmethod\n",
    "    def students_details(self):\n",
    "        pass\n",
    "    @abc.abstractmethod\n",
    "    def student_assignment(self):\n",
    "        pass\n",
    "    @abc.abstractmethod\n",
    "    def student_marks(self):\n",
    "        pass\n",
    "    \n",
    "class student_details(pwskills):\n",
    "    def student_details(self):\n",
    "        return 'this is a meth for taking student details'\n",
    "    def student_assignment(self):\n",
    "        return 'this is a meth for assing details for a particular student'\n",
    "    \n",
    "\n",
    "class data_science_masters(pwskills):\n",
    "    def students_details(self):\n",
    "        return 'this will return a student details for data science masters'\n",
    "    \n",
    "    def students_assignment(self):\n",
    "        return 'this will give you a student assignment details for data science masters'"
   ]
  },
  {
   "cell_type": "markdown",
   "id": "6bc3ec3b-af29-4f53-8518-bbc5a3f6eead",
   "metadata": {},
   "source": [
    "To apply Encapsulation in this example, we can make the instance variables (account_number and balance) of the BankAccount class private by prefixing them with double underscores (__). We can then provide getter and setter methods (get_account_number, get_balance, set_balance) to access and modify these variables."
   ]
  },
  {
   "cell_type": "code",
   "execution_count": 6,
   "id": "a46ebcf9-b1e6-4dfa-ba57-c7922594c45d",
   "metadata": {},
   "outputs": [],
   "source": [
    "class car:\n",
    "    def __init__(self,year,make,model,speed):\n",
    "        self.__year = year\n",
    "        self.__make = make\n",
    "        self.__model = model\n",
    "        self.__speed = 0     #by defalut take 0\n",
    "        \n",
    "   # these two function are public \n",
    "\n",
    "    def set_speed(self,speed):\n",
    "        self.__speed = 0 if speed < 0 else speed\n",
    "        \n",
    "    def get_speed(self):\n",
    "        return self.__speed\n",
    "        \n"
   ]
  },
  {
   "cell_type": "markdown",
   "id": "d1c1a992-4615-496b-ab96-a19001297889",
   "metadata": {},
   "source": [
    "Q3. What is abc module in python? Why is it used?"
   ]
  },
  {
   "cell_type": "markdown",
   "id": "23c243a1-8682-45b4-8323-4b5e41cd5cde",
   "metadata": {},
   "source": [
    "The abc module in Python is short for \"Abstract Base Classes\". It is a built-in module that provides an infrastructure for defining abstract base classes. Abstract base classes are classes that cannot be instantiated and are meant to be used as a blueprint for other classes. They define a set of methods or properties that must be implemented by any subclass, but do not provide any implementation of their own.\n",
    "The abc module is commonly used in Python to create interfaces or contracts for other classes. By defining a set of abstract methods or properties, we can ensure that any class that implements the abstract base class provides the necessary functionality. This makes it easier to create modular and maintainable code, as it allows us to define a common interface that can be used by multiple classes.\n"
   ]
  },
  {
   "cell_type": "markdown",
   "id": "080ce9bd-2681-4417-8cc5-cdb8d615a95e",
   "metadata": {},
   "source": [
    "Q4. How can we achieve data abstraction?"
   ]
  },
  {
   "cell_type": "markdown",
   "id": "3d49e5c1-348a-4e0d-a0de-577f51da37a5",
   "metadata": {},
   "source": [
    "# Data Abstraction is achieved in Object-Oriented Programming (OOP) by using abstract classes or interfaces. Abstract classes are classes that cannot be instantiated and are meant to be used as a blueprint for other classes. They define a set of methods or properties that must be implemented by any subclass, but do not provide any implementation of their own. Interfaces, on the other hand, are similar to abstract classes but only define a set of method signatures without any implementation.\n",
    "\n",
    "To achieve data abstraction in OOP, we can follow these steps:\n",
    "\n",
    "1. Define an abstract class or interface that defines a set of methods or properties that must be implemented by any subclass.\n",
    "2. Create concrete classes that inherit from the abstract class or implement the interface.\n",
    "3. Use the concrete classes in our program."
   ]
  },
  {
   "cell_type": "markdown",
   "id": "affcc542-4e52-423f-9b61-0d38747346ad",
   "metadata": {},
   "source": [
    "Q5. Can we create an instance of an abstract class? Explain your answer."
   ]
  },
  {
   "cell_type": "markdown",
   "id": "1f184bf8-be9b-4772-9b5b-dcf7e0db2eb0",
   "metadata": {},
   "source": [
    "No, we cannot create an instance of an abstract class. An abstract class is a class that contains at least one abstract method, which is a method without implementation. Abstract classes are meant to be used as base classes to be inherited by other classes, which will provide the implementation for the abstract methods.\n",
    "\n",
    "Since abstract classes have one or more unimplemented methods, creating an instance of an abstract class would mean that there are some methods that are not implemented in the instance, which would violate the purpose of an abstract class. Therefore, attempting to create an instance of an abstract class will result in a compilation error.\n",
    "\n",
    "However, we can create an instance of a concrete subclass that extends the abstract class, which will provide the implementation for the abstract methods. The concrete subclass can be instantiated and used just like any other regular class."
   ]
  },
  {
   "cell_type": "code",
   "execution_count": null,
   "id": "21cf2f92-9024-4610-93ab-71449f2dfe10",
   "metadata": {},
   "outputs": [],
   "source": []
  }
 ],
 "metadata": {
  "kernelspec": {
   "display_name": "Python 3 (ipykernel)",
   "language": "python",
   "name": "python3"
  },
  "language_info": {
   "codemirror_mode": {
    "name": "ipython",
    "version": 3
   },
   "file_extension": ".py",
   "mimetype": "text/x-python",
   "name": "python",
   "nbconvert_exporter": "python",
   "pygments_lexer": "ipython3",
   "version": "3.10.8"
  }
 },
 "nbformat": 4,
 "nbformat_minor": 5
}
